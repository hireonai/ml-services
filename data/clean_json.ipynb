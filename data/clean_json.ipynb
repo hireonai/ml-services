{
 "cells": [
  {
   "cell_type": "code",
   "execution_count": 2,
   "metadata": {},
   "outputs": [
    {
     "name": "stdout",
     "output_type": "stream",
     "text": [
      "Fixed JSON saved to jobs_fixed.json\n"
     ]
    }
   ],
   "source": [
    "import json\n",
    "import ast\n",
    "\n",
    "# Load the JSON file\n",
    "with open(\"cleaned_data/final_json/jobs.json\", \"r\", encoding=\"utf-8\") as f:\n",
    "    jobs_data = json.load(f)\n",
    "\n",
    "# Process each job entry\n",
    "for job in jobs_data:\n",
    "    # Convert string representation of lists to actual lists\n",
    "    for field in ['kategori', 'job_desc_list', 'job_qualification_list']:\n",
    "        if field in job and isinstance(job[field], str) and job[field].startswith('['):\n",
    "            try:\n",
    "                # Using ast.literal_eval to safely evaluate the string as a Python literal\n",
    "                job[field] = ast.literal_eval(job[field])\n",
    "            except (SyntaxError, ValueError):\n",
    "                # Fallback if ast.literal_eval fails\n",
    "                # Remove the square brackets and split by comma\n",
    "                job[field] = [item.strip().strip(\"'\\\"\") for item in job[field][1:-1].split(',')]\n",
    "\n",
    "# Save the fixed JSON\n",
    "with open(\"cleaned_data/final_json/jobs_fixed.json\", \"w\", encoding=\"utf-8\") as f:\n",
    "    json.dump(jobs_data, f, ensure_ascii=False, indent=4)\n",
    "\n",
    "print(\"Fixed JSON saved to jobs_fixed.json\")"
   ]
  },
  {
   "cell_type": "code",
   "execution_count": null,
   "metadata": {},
   "outputs": [],
   "source": []
  }
 ],
 "metadata": {
  "kernelspec": {
   "display_name": "base",
   "language": "python",
   "name": "python3"
  },
  "language_info": {
   "codemirror_mode": {
    "name": "ipython",
    "version": 3
   },
   "file_extension": ".py",
   "mimetype": "text/x-python",
   "name": "python",
   "nbconvert_exporter": "python",
   "pygments_lexer": "ipython3",
   "version": "3.12.3"
  }
 },
 "nbformat": 4,
 "nbformat_minor": 2
}
