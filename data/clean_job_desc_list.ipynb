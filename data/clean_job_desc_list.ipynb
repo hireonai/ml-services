{
 "cells": [
  {
   "cell_type": "code",
   "execution_count": 1,
   "metadata": {},
   "outputs": [],
   "source": [
    "import pandas as pd"
   ]
  },
  {
   "cell_type": "code",
   "execution_count": 2,
   "metadata": {},
   "outputs": [],
   "source": [
    "data = pd.read_json('scrapped_dealls.json')\n",
    "data['jobs_id'] = data.index"
   ]
  },
  {
   "cell_type": "code",
   "execution_count": 5,
   "metadata": {},
   "outputs": [],
   "source": [
    "data[['job_desc_list', 'job_qualification_list']].to_csv('job_desc_qualification.csv')"
   ]
  },
  {
   "cell_type": "code",
   "execution_count": 3,
   "metadata": {},
   "outputs": [],
   "source": [
    "def clean_job_text(text_list):\n",
    "    \"\"\"\n",
    "    Cleans job descriptions and qualifications by processing each item in a list of strings\n",
    "    to remove patterns like numbered bullets, special characters, and other non-letter \n",
    "    beginnings. Ensures the first character is a letter.\n",
    "    \n",
    "    Args:\n",
    "        text_list: List of strings or a single string\n",
    "        \n",
    "    Returns:\n",
    "        List of cleaned strings or a cleaned string\n",
    "    \"\"\"\n",
    "    import re\n",
    "    \n",
    "    # If input is not a list or is NaN, return as is\n",
    "    if not isinstance(text_list, list):\n",
    "        return text_list\n",
    "    \n",
    "    cleaned_list = []\n",
    "    \n",
    "    for item in text_list:\n",
    "        if not isinstance(item, str):\n",
    "            cleaned_list.append(item)\n",
    "            continue\n",
    "            \n",
    "        # Remove numbered bullets (e.g., \"1. \", \"2. \", \"10. \")\n",
    "        item = re.sub(r'^\\d+\\.\\s+', '', item)\n",
    "        \n",
    "        # Remove Chinese-style numbering (e.g., \"1、\")\n",
    "        item = re.sub(r'^\\d+、\\s*', '', item)\n",
    "        \n",
    "        # Remove colons at the beginning (e.g., \": Text\")\n",
    "        item = re.sub(r'^:\\s+', '', item)\n",
    "        \n",
    "        # Remove periods at the beginning (e.g., \".Text\")\n",
    "        item = re.sub(r'^\\.', '', item)\n",
    "        \n",
    "        # Remove Unicode WORD JOINER character (\\u2060)\n",
    "        item = item.replace('\\u2060', '')\n",
    "        \n",
    "        # Remove special symbols at the beginning\n",
    "        item = re.sub(r'^[📌♦\\·•\\-_\\+=>#@\\$%\\^&~\\|]+\\s', '', item)\n",
    "        \n",
    "        # Remove leading spaces and invisible characters\n",
    "        item = item.lstrip()\n",
    "        \n",
    "        # Ensure the string starts with a letter - if not, keep removing characters until it does\n",
    "        while item and not item[0].isalpha():\n",
    "            item = item[1:] if len(item) > 1 else \"\"\n",
    "        \n",
    "        cleaned_list.append(item)\n",
    "    \n",
    "    return cleaned_list\n"
   ]
  },
  {
   "cell_type": "code",
   "execution_count": 5,
   "metadata": {},
   "outputs": [],
   "source": [
    "data['job_desc_list'] = data['job_desc_list'].apply(clean_job_text)\n",
    "data['job_qualification_list'] = data['job_qualification_list'].apply(clean_job_text)"
   ]
  },
  {
   "cell_type": "code",
   "execution_count": 6,
   "metadata": {},
   "outputs": [],
   "source": [
    "# Fungsi untuk menghitung jumlah karakter pada list of string\n",
    "def count_chars(text_list):\n",
    "    if isinstance(text_list, list):\n",
    "        return len(' '.join(text_list))\n",
    "    elif isinstance(text_list, str):\n",
    "        return len(text_list)\n",
    "    else:\n",
    "        return 0\n",
    "\n",
    "# Membuat kolom baru\n",
    "data['job_desc_list_len'] = data['job_desc_list'].apply(count_chars)\n",
    "data['job_qualification_list_len'] = data['job_qualification_list'].apply(count_chars)"
   ]
  },
  {
   "cell_type": "code",
   "execution_count": 11,
   "metadata": {},
   "outputs": [],
   "source": [
    "data[['jobs_id', 'job_desc_list_len', 'job_desc_list', 'job_qualification_list_len', 'job_qualification_list']].to_csv('clean_data.csv')"
   ]
  },
  {
   "cell_type": "code",
   "execution_count": null,
   "metadata": {},
   "outputs": [],
   "source": []
  }
 ],
 "metadata": {
  "kernelspec": {
   "display_name": "base",
   "language": "python",
   "name": "python3"
  },
  "language_info": {
   "codemirror_mode": {
    "name": "ipython",
    "version": 3
   },
   "file_extension": ".py",
   "mimetype": "text/x-python",
   "name": "python",
   "nbconvert_exporter": "python",
   "pygments_lexer": "ipython3",
   "version": "3.12.3"
  }
 },
 "nbformat": 4,
 "nbformat_minor": 2
}
