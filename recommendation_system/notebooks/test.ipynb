{
 "cells": [
  {
   "cell_type": "code",
   "execution_count": 1,
   "id": "dd5966b3",
   "metadata": {},
   "outputs": [],
   "source": [
    "import sys\n",
    "import os\n",
    "\n",
    "# find the root directory of the project\n",
    "project_root = os.path.abspath(os.path.join(os.getcwd(), '..'))\n",
    "if project_root not in sys.path:\n",
    "    sys.path.insert(0, project_root)"
   ]
  },
  {
   "cell_type": "code",
   "execution_count": 2,
   "id": "b22df518",
   "metadata": {},
   "outputs": [
    {
     "name": "stderr",
     "output_type": "stream",
     "text": [
      "c:\\Users\\user\\Documents\\CODING_CAMP\\capstone\\venv\\Lib\\site-packages\\tqdm\\auto.py:21: TqdmWarning: IProgress not found. Please update jupyter and ipywidgets. See https://ipywidgets.readthedocs.io/en/stable/user_install.html\n",
      "  from .autonotebook import tqdm as notebook_tqdm\n",
      "2025-05-26 11:27:09,482 - INFO - MongoDB Atlas ping successfully.\n"
     ]
    }
   ],
   "source": [
    "from scripts.mongo_ingestion import MongoDBClient\n",
    "from scripts.config import MONGO_URI, DB_NAME\n",
    "import pandas as pd\n",
    "\n",
    "\n",
    "with MongoDBClient(mongo_uri=MONGO_URI, dbname=DB_NAME) as client:\n",
    "    client.ping()\n",
    "    collection = client.get_collection('jobs')\n",
    "    docs = client.find('jobs',\n",
    "                       projection={'_id': 1, 'jobPosition': 1, 'jobDescList': 1, 'jobQualificationsList': 1},\n",
    "                       limit=10)\n",
    "\n",
    "df = pd.DataFrame(docs)"
   ]
  },
  {
   "cell_type": "code",
   "execution_count": 3,
   "id": "05023d92",
   "metadata": {},
   "outputs": [
    {
     "data": {
      "text/html": [
       "<div>\n",
       "<style scoped>\n",
       "    .dataframe tbody tr th:only-of-type {\n",
       "        vertical-align: middle;\n",
       "    }\n",
       "\n",
       "    .dataframe tbody tr th {\n",
       "        vertical-align: top;\n",
       "    }\n",
       "\n",
       "    .dataframe thead th {\n",
       "        text-align: right;\n",
       "    }\n",
       "</style>\n",
       "<table border=\"1\" class=\"dataframe\">\n",
       "  <thead>\n",
       "    <tr style=\"text-align: right;\">\n",
       "      <th></th>\n",
       "      <th>_id</th>\n",
       "      <th>jobPosition</th>\n",
       "      <th>jobDescList</th>\n",
       "      <th>jobQualificationsList</th>\n",
       "    </tr>\n",
       "  </thead>\n",
       "  <tbody>\n",
       "    <tr>\n",
       "      <th>0</th>\n",
       "      <td>6831c4b35ff150584a2a66d6</td>\n",
       "      <td>Back End Developer</td>\n",
       "      <td>[Utilize languages like Go, PHP/Laravel, and P...</td>\n",
       "      <td>[Minimum Bachelor of Science in computer scien...</td>\n",
       "    </tr>\n",
       "    <tr>\n",
       "      <th>1</th>\n",
       "      <td>6831c4b35ff150584a2a66d7</td>\n",
       "      <td>(Freelance) Sales Retail Mobile/Canvasser</td>\n",
       "      <td>[Retail Sales Mobile akan bertanggung jawab un...</td>\n",
       "      <td>[Pendidikan minimal SMA/SMK/sederajat., Memili...</td>\n",
       "    </tr>\n",
       "    <tr>\n",
       "      <th>2</th>\n",
       "      <td>6831c4b35ff150584a2a66d8</td>\n",
       "      <td>Creative Lead</td>\n",
       "      <td>[Membuat laporan weekly &amp; monthly, Memberikan ...</td>\n",
       "      <td>[Pendidikan minimal S1 Ilmu Komunikasi / Marke...</td>\n",
       "    </tr>\n",
       "    <tr>\n",
       "      <th>3</th>\n",
       "      <td>6831c4b35ff150584a2a66d9</td>\n",
       "      <td>Social Media Specialist</td>\n",
       "      <td>[We are looking for a Social Media Specialist ...</td>\n",
       "      <td>[\"Bachelors degree in Marketing, Communication...</td>\n",
       "    </tr>\n",
       "    <tr>\n",
       "      <th>4</th>\n",
       "      <td>6831c4b35ff150584a2a66da</td>\n",
       "      <td>HRGA Staff area Padalarang Kabupaten Bandung B...</td>\n",
       "      <td>[Membantu perekrutan dan pengelolaan operasion...</td>\n",
       "      <td>[Pengalaman HRGA minimal 1 Tahun, Memiliki kem...</td>\n",
       "    </tr>\n",
       "    <tr>\n",
       "      <th>5</th>\n",
       "      <td>6831c4b35ff150584a2a66db</td>\n",
       "      <td>Backend Engineer</td>\n",
       "      <td>[To build, maintain, and enhance our validator...</td>\n",
       "      <td>[years of experience in coding in at least one...</td>\n",
       "    </tr>\n",
       "    <tr>\n",
       "      <th>6</th>\n",
       "      <td>6831c4b35ff150584a2a66dc</td>\n",
       "      <td>Software Engineer in Test</td>\n",
       "      <td>[Review requirements, specifications and techn...</td>\n",
       "      <td>[Must have experience web automation with Java...</td>\n",
       "    </tr>\n",
       "    <tr>\n",
       "      <th>7</th>\n",
       "      <td>6831c4b35ff150584a2a66dd</td>\n",
       "      <td>Product Manager</td>\n",
       "      <td>[Facilitate effective communication and collab...</td>\n",
       "      <td>[A bachelor’s degree or higher in a relevant f...</td>\n",
       "    </tr>\n",
       "    <tr>\n",
       "      <th>8</th>\n",
       "      <td>6831c4b35ff150584a2a66de</td>\n",
       "      <td>Digital Strategist</td>\n",
       "      <td>[Develop and refine digital marketing strategi...</td>\n",
       "      <td>[Minimum 3 years experience as a Digital Strat...</td>\n",
       "    </tr>\n",
       "    <tr>\n",
       "      <th>9</th>\n",
       "      <td>6831c4b35ff150584a2a66df</td>\n",
       "      <td>Art Director</td>\n",
       "      <td>[Sebagai, Anda akan bertanggung jawab untuk me...</td>\n",
       "      <td>[Gelar sarjana di bidang desain grafis, komuni...</td>\n",
       "    </tr>\n",
       "  </tbody>\n",
       "</table>\n",
       "</div>"
      ],
      "text/plain": [
       "                        _id  \\\n",
       "0  6831c4b35ff150584a2a66d6   \n",
       "1  6831c4b35ff150584a2a66d7   \n",
       "2  6831c4b35ff150584a2a66d8   \n",
       "3  6831c4b35ff150584a2a66d9   \n",
       "4  6831c4b35ff150584a2a66da   \n",
       "5  6831c4b35ff150584a2a66db   \n",
       "6  6831c4b35ff150584a2a66dc   \n",
       "7  6831c4b35ff150584a2a66dd   \n",
       "8  6831c4b35ff150584a2a66de   \n",
       "9  6831c4b35ff150584a2a66df   \n",
       "\n",
       "                                         jobPosition  \\\n",
       "0                                 Back End Developer   \n",
       "1          (Freelance) Sales Retail Mobile/Canvasser   \n",
       "2                                      Creative Lead   \n",
       "3                            Social Media Specialist   \n",
       "4  HRGA Staff area Padalarang Kabupaten Bandung B...   \n",
       "5                                   Backend Engineer   \n",
       "6                          Software Engineer in Test   \n",
       "7                                    Product Manager   \n",
       "8                                 Digital Strategist   \n",
       "9                                       Art Director   \n",
       "\n",
       "                                         jobDescList  \\\n",
       "0  [Utilize languages like Go, PHP/Laravel, and P...   \n",
       "1  [Retail Sales Mobile akan bertanggung jawab un...   \n",
       "2  [Membuat laporan weekly & monthly, Memberikan ...   \n",
       "3  [We are looking for a Social Media Specialist ...   \n",
       "4  [Membantu perekrutan dan pengelolaan operasion...   \n",
       "5  [To build, maintain, and enhance our validator...   \n",
       "6  [Review requirements, specifications and techn...   \n",
       "7  [Facilitate effective communication and collab...   \n",
       "8  [Develop and refine digital marketing strategi...   \n",
       "9  [Sebagai, Anda akan bertanggung jawab untuk me...   \n",
       "\n",
       "                               jobQualificationsList  \n",
       "0  [Minimum Bachelor of Science in computer scien...  \n",
       "1  [Pendidikan minimal SMA/SMK/sederajat., Memili...  \n",
       "2  [Pendidikan minimal S1 Ilmu Komunikasi / Marke...  \n",
       "3  [\"Bachelors degree in Marketing, Communication...  \n",
       "4  [Pengalaman HRGA minimal 1 Tahun, Memiliki kem...  \n",
       "5  [years of experience in coding in at least one...  \n",
       "6  [Must have experience web automation with Java...  \n",
       "7  [A bachelor’s degree or higher in a relevant f...  \n",
       "8  [Minimum 3 years experience as a Digital Strat...  \n",
       "9  [Gelar sarjana di bidang desain grafis, komuni...  "
      ]
     },
     "execution_count": 3,
     "metadata": {},
     "output_type": "execute_result"
    }
   ],
   "source": [
    "df"
   ]
  },
  {
   "cell_type": "code",
   "execution_count": 4,
   "id": "8cf10023",
   "metadata": {},
   "outputs": [],
   "source": [
    "from scripts.text_preprocessor import TextPreprocessor"
   ]
  },
  {
   "cell_type": "code",
   "execution_count": 5,
   "id": "04a99da9",
   "metadata": {},
   "outputs": [
    {
     "data": {
      "text/plain": [
       "['6831c4b35ff150584a2a66d6',\n",
       " '6831c4b35ff150584a2a66d7',\n",
       " '6831c4b35ff150584a2a66d8',\n",
       " '6831c4b35ff150584a2a66d9',\n",
       " '6831c4b35ff150584a2a66da',\n",
       " '6831c4b35ff150584a2a66db',\n",
       " '6831c4b35ff150584a2a66dc',\n",
       " '6831c4b35ff150584a2a66dd',\n",
       " '6831c4b35ff150584a2a66de',\n",
       " '6831c4b35ff150584a2a66df']"
      ]
     },
     "execution_count": 5,
     "metadata": {},
     "output_type": "execute_result"
    }
   ],
   "source": [
    "text_preprocessor = TextPreprocessor()\n",
    "ids = text_preprocessor.create_id_list(df)\n",
    "ids"
   ]
  },
  {
   "cell_type": "code",
   "execution_count": 6,
   "id": "bb4ef2bf",
   "metadata": {},
   "outputs": [
    {
     "data": {
      "text/plain": [
       "['Back End Developer',\n",
       " '(Freelance) Sales Retail Mobile/Canvasser',\n",
       " 'Creative Lead',\n",
       " 'Social Media Specialist',\n",
       " 'HRGA Staff area Padalarang Kabupaten Bandung Barat',\n",
       " 'Backend Engineer',\n",
       " 'Software Engineer in Test',\n",
       " 'Product Manager',\n",
       " 'Digital Strategist',\n",
       " 'Art Director']"
      ]
     },
     "execution_count": 6,
     "metadata": {},
     "output_type": "execute_result"
    }
   ],
   "source": [
    "job_titles = text_preprocessor.create_job_title_list(df)\n",
    "job_titles"
   ]
  },
  {
   "cell_type": "code",
   "execution_count": 7,
   "id": "c968f6f6",
   "metadata": {},
   "outputs": [
    {
     "data": {
      "text/plain": [
       "['Jobdesk: Utilize languages like Go, PHP/Laravel, and Python for backend development and maintenance., Manage SQL (MySQL, PostgreSQL) and NoSQL (MongoDB) databases for data storage and retrieval., Implement and manage messaging systems such as Kafka, RabbitMQ, and Redis for enhanced performance., Design and implement APIs for effective frontend-backend communication., Regularly use Git for code versioning and collaborative development., Apply clean code architecture practices to ensure code quality and maintainability., Use object-oriented programming techniques for modular and scalable code development., Understand and implement Entity Relationship Diagrams and database normalization for efficient database design.. Requirements: Minimum Bachelor of Science in computer science, software engineering, programming, or equivalent, Proficiency with languages such as\\\\xa0Go, PHP/Laravel, and Python, Understanding\\\\xa0\\\\xa0Entity Relationship Diagram and normalization, Experience in SQL (my sql, postgresql) and no SQL (mongodb), Have experience in implement messages broker (kafka), messages queue (rabbitmq) and redis is a plus, Experience with the design and implementation of APIs, Understanding of code versioning tools such as Git, Understanding\\\\xa0of clean code architecture is\\\\xa0a plus, Understanding of object-oriented programming',\n",
       " 'Jobdesk: Retail Sales Mobile akan bertanggung jawab untuk mencari dan menjalin hubungan dengan klien bisnis baru (perusahaan, organisasi, pemerintah, dsb). Tugas utama posisi ini adalah mencari dan menghasilkan prospek, membangun hubungan, dan mengubah peluang menjadi sales dengan mempromosikan produk torch.id kepada bisnis lain.. Requirements: Pendidikan minimal SMA/SMK/sederajat., Memiliki pengalaman minimal 1 tahun sebagai sales B2B., Memiliki database network di industri, pemerintah, dsb., Memiliki dan bisa mengendarai kendaraan pribadi., Memiliki kemampuan komunikasi yang baik., Bersedia bekerja mobile., Aktif, jujur, memiliki inisiatif, teliti, dan bertanggung jawab., Berdomisili di sekitar ',\n",
       " 'Jobdesk: Membuat laporan weekly & monthly, Memberikan training & mentoring kepada Staff, Melakukan controlling pekerjaan kepada keseluruhan tim, Melakukan quality checking konten & desain, Membuat konsep feed untuk Marketplace & Social Media dan Membuat konsep desain untuk promosi twindate, mid month, & payday, Membuat konsep photo & video shoot per bulan untuk produk maupun talent, Melakukan morning briefing setiap hari kepada tim, Membuat timeline campaign dan content planning, Membuat & controlling budgeting untuk brand marketing, Melakukan quality checking untuk video KOL, Mengadakan monthly meeting dengan tim untuk evaluasi kerja, Presentasi pengajuan untuk approval campaign, Riset konten dan desain, Membuat plan untuk campaign atau campaign semester atau quarter. Requirements: Pendidikan minimal S1 Ilmu Komunikasi / Marketing, Pengalaman minimal 3 tahun di bidang yang retail, dan sebelumnya pernah menjadi SPV, Diutamakan pernah bekerja dibidang skincare, Memiliki pemahaman yang mendalam tentang digital marketing dan platform media sosial., Good Communication skill, Creative & Analytical thinking, Up to date dengan tren terbaru, Memiliki Keterampilan berpikri strategis, analitis dan problem solving, Mengikuti perkembangan terbaru dalam tren dan perilaku konsumen, Memiliki leadership skill dan kemampuan management tim yang kuat',\n",
       " 'Jobdesk: We are looking for a Social Media Specialist to join our growing team! As a Social Media Specialist, you will play a vital role in shaping TORCH’s online presence, engaging with the target audience, , and driving digital marketing efforts, mainly on Instagram and X (past: Twitter).. Requirements: \"Bachelors degree in Marketing, Communications, Digital Media, or a related field.\", Min. , in social media management, preferably in the fashion or retail industry., Strong understanding of social media platforms, trends, and best practices., Excellent visual and written communication skills with a creative flair., Proficiency in using social media scheduling tools, analytics, and advertising platforms., Familiarity with graphic design tools for creating social media visuals., Knowledge of influencer marketing and experience in managing influencer collaborations., Ability to analyze data and extract actionable insights to improve social media performance., Adaptability to changing social media algorithms and industry trends., Customer-centric mindset with the ability to engage and connect with the target audience., Strong organizational and multitasking skills to manage multiple social media channels and campaigns simultaneously',\n",
       " 'Jobdesk: Membantu perekrutan dan pengelolaan operasional;, Berkoordinasi dengan departemen\\\\xa0terkait;, Menjaga dan Mengorganisasi dokumen pekerja seperti informasi pribadi dan kontrak kerja;, Memperbaharui database HR seperti dokumen Personal serta data karyawan baru dan yang lama;, Pemeliharaan aset;, Membantu urusan Perizinan Perusahaan;, Membina hubungan baik dengan Suplier.. Requirements: Pengalaman HRGA minimal 1 Tahun, Memiliki kemampuan Interview dan Pengelolaan Operasional, Mahir mengendarai mobil, dan memiliki SIM A dan maupun SIM C aktif, Berdomisili di Padalarang',\n",
       " 'Jobdesk: To build, maintain, and enhance our validator operations, Work with cross-functional teams to conceptualize, design, and develop Web3 products that align with the company’s vision., Build advanced multichain solutions with a focus on top-tier security, scalability, and performance., Research the newest code and understand its roadmap, to be on the cutting edge of blockchain technology., Study latest blockchain developments and consider future implications to the broader ecosystem., Success means establishing a resilient and secure blockchain infrastructure for the most promising networks. Requirements: years of experience in coding in at least one modern language such as Node.js, Python, Java, and Go., years of experience contributing to the architecture and design of new and existing systems (architecture, design patterns, reliability, and scaling), A deep interest in and passion for blockchain and cryptocurrency is a must, Basic understanding of blockchain technology and familiarity with integrating blockchains or smart contracts., Strong critical thinking, problem-solving, and a mindset for continuous learning., Expertise in building and enabling gRPC Services., Understands security practices in managing servers and networks., Experience defining system architecture(s) and exploring technical feasibility tradeoffs and capabilities., Good organizational and communication skills., Startup mindset, ownership, and a proper balance of quality and sense of urgency!, Integrity, ethical standards and sound judgment.',\n",
       " 'Jobdesk: Review requirements, specifications and technical design documents to provide timely and meaningful feedback;, Create detailed, comprehensive and well-structured test plans and test cases;, Estimate, prioritize, plan and coordinate testing activities;, Experienced with a variety of different testing techniques such as Automated Testing;, Design, develop and execute automation scripts using open source tools;, Identify, record, document thoroughly and track bugs;, Perform thorough regression testing when bugs are resolved;, Develop and apply testing processes for new and existing products to meet client needs;, Liaise with internal teams (e.g. developers and product managers) to identify system requirements;, Monitor debugging process results;, Investigate the causes of non-conforming software and train users to implement solutions;, Track quality assurance metrics, like defect densities and open defect counts;, Stay up-to-date with new testing tools and test strategies;. Requirements: Must have experience web automation with Java Script, Cypress, and Python, Have experience android automation with robot framework is a plus, Proven work experience in software quality assurance automation;, Strong knowledge of software QA methodologies, tools and processes;, Experience in writing clear, concise and comprehensive test plans and test cases;, Hands-on experience with both white box and black box testing;, Hands-on experience with automated testing tools;, Solid knowledge of SQL and scripting;, Experience working in an Agile/Scrum development process;, Ready to work in fast paced environment, Love to Explore new things, BS/MS degree in Computer Science, Engineering or a related subject',\n",
       " 'Jobdesk: Facilitate effective communication and collaboration with banking partners to ensure alignment and successful execution of initiatives., Prepare, review, and maintain detailed product specifications, technical documentation, and related project artifacts to guide development and implementation., Support the product management team in driving project timelines, monitoring progress, and managing requirements to ensure seamless development and delivery of solutions., Conduct post-collaboration data analysis to assess performance metrics, derive insights, and identify areas for improvement in future partnerships.. Requirements: A bachelor’s degree or higher in a relevant field, with a strong understanding of P2P lending and bank collaboration processes. Candidates with over one year of relevant experience are preferred., Skilled in using product prototyping tools, data analysis software, and office productivity applications, including Microsoft Word and Excel., Demonstrates a high level of responsibility, accountability, and commitment to achieving work goals and delivering results., Fluency in English as working languages is a must to effectively communicate with stakeholders and manage cross-functional coordination., At least 3 years of experience as Product Manager in related industry (banking, fintech, e-commerce, etc)',\n",
       " 'Jobdesk: Develop and refine digital marketing strategies based on data insights, market trends, and audience behavior., Analyze and interpret campaign performance metrics to inform strategic decision-making and continuous optimization., Identify growth opportunities and recommend strategic initiatives to enhance user engagement, brand positioning, and conversion rates., Provide strategic direction for KOL marketing, SEO, SEM, and social media campaigns to ensure alignment with business objectives., Collaborate with cross-functional teams (creative, data, and account teams) to align strategy with execution and brand storytelling., Present data-driven insights and strategic recommendations to clients and internal stakeholders to drive marketing effectiveness., Stay updated on emerging digital trends and consumer behavior shifts to ensure the brand remains competitive and innovative.. Requirements: Minimum 3 years experience as a Digital Strategist or similar role in a digital marketing agency., Strong understanding of KOL Marketing, SEO, SEM, and social media platforms., Proficiency in Google Analytics and other digital marketing tools., Experience with data analysis and ability to derive actionable insights., Excellent communication and presentation skills, with the ability to convey complex ideas clearly., Familiarity with the latest digital marketing trends and technologies., Ability to manage multiple projects and campaigns simultaneously while meeting deadlines., Experience in managing 360 marketing campaigns, including ATL, BTL, and offline activations, is a plus.',\n",
       " 'Jobdesk: Sebagai, Anda akan bertanggung jawab untuk memimpin dan mengarahkan tim desain dalam menciptakan konsep visual yang menarik dan efektif untuk berbagai platform digital. Anda akan bekerja sama dengan copywriter, account manager, dan tim lainnya untuk menghasilkan kampanye yang terintegrasi dan berdampak.. Requirements: Gelar sarjana di bidang desain grafis, komunikasi visual, atau bidang terkait., Pengalaman minimal 3-5 tahun sebagai desainer grafis atau art director di agensi digital atau studio kreatif., Penguasaan software design (Adobe Creative Suite: Photoshop, Illustrator, InDesign)., Pemahaman tentang prinsip desain, tipografi, warna, dan layout., Kemampuan berpikir kreatif dan konseptual., Kemampuan komunikasi dan presentasi yang baik., Kemampuan memimpin dan mengelola tim., Pemahaman tentang tren digital marketing dan media sosial., Portofolio yang kuat yang menunjukkan kemampuan desain dan kreativitas., Memiliki pengetahuan dan pengalaman dalam pembuatan video, TVC, Short Movie, serta animas 2D/3D., Pengalaman dalam menghandle klien dari berbagai macam\\\\xa0industri., Keterampilan fotografi atau ilustrasi., Menguasai AI tools untuk visual generation, seperti Stable Diffusion, Midjourney, dan image/visual generator LLM lainnya.']"
      ]
     },
     "execution_count": 7,
     "metadata": {},
     "output_type": "execute_result"
    }
   ],
   "source": [
    "job_texts = text_preprocessor.create_job_texts(df)\n",
    "job_texts"
   ]
  },
  {
   "cell_type": "code",
   "execution_count": 8,
   "id": "18528920",
   "metadata": {},
   "outputs": [
    {
     "name": "stderr",
     "output_type": "stream",
     "text": [
      "2025-05-26 11:28:18,585 - INFO - Use pytorch device_name: cpu\n",
      "2025-05-26 11:28:18,590 - INFO - Load pretrained SentenceTransformer: sentence-transformers/paraphrase-multilingual-MiniLM-L12-v2\n"
     ]
    },
    {
     "name": "stdout",
     "output_type": "stream",
     "text": [
      "Adding job titles to ChromaDB...\n"
     ]
    },
    {
     "name": "stderr",
     "output_type": "stream",
     "text": [
      "Batches: 100%|██████████| 1/1 [00:00<00:00,  3.48it/s]\n"
     ]
    },
    {
     "name": "stdout",
     "output_type": "stream",
     "text": [
      "Data added to ChromaDB collection.\n"
     ]
    },
    {
     "name": "stderr",
     "output_type": "stream",
     "text": [
      "Batches: 100%|██████████| 1/1 [00:00<00:00, 15.65it/s]\n"
     ]
    },
    {
     "data": {
      "text/html": [
       "<div>\n",
       "<style scoped>\n",
       "    .dataframe tbody tr th:only-of-type {\n",
       "        vertical-align: middle;\n",
       "    }\n",
       "\n",
       "    .dataframe tbody tr th {\n",
       "        vertical-align: top;\n",
       "    }\n",
       "\n",
       "    .dataframe thead th {\n",
       "        text-align: right;\n",
       "    }\n",
       "</style>\n",
       "<table border=\"1\" class=\"dataframe\">\n",
       "  <thead>\n",
       "    <tr style=\"text-align: right;\">\n",
       "      <th></th>\n",
       "      <th>id</th>\n",
       "      <th>document</th>\n",
       "      <th>distance</th>\n",
       "    </tr>\n",
       "  </thead>\n",
       "  <tbody>\n",
       "    <tr>\n",
       "      <th>0</th>\n",
       "      <td>6831c4b35ff150584a2a66db</td>\n",
       "      <td>Backend Engineer</td>\n",
       "      <td>12.984494</td>\n",
       "    </tr>\n",
       "    <tr>\n",
       "      <th>1</th>\n",
       "      <td>6831c4b35ff150584a2a66d6</td>\n",
       "      <td>Back End Developer</td>\n",
       "      <td>14.726101</td>\n",
       "    </tr>\n",
       "    <tr>\n",
       "      <th>2</th>\n",
       "      <td>6831c4b35ff150584a2a66da</td>\n",
       "      <td>HRGA Staff area Padalarang Kabupaten Bandung B...</td>\n",
       "      <td>36.943668</td>\n",
       "    </tr>\n",
       "    <tr>\n",
       "      <th>3</th>\n",
       "      <td>6831c4b35ff150584a2a66d8</td>\n",
       "      <td>Creative Lead</td>\n",
       "      <td>39.072746</td>\n",
       "    </tr>\n",
       "    <tr>\n",
       "      <th>4</th>\n",
       "      <td>6831c4b35ff150584a2a66d7</td>\n",
       "      <td>(Freelance) Sales Retail Mobile/Canvasser</td>\n",
       "      <td>39.772221</td>\n",
       "    </tr>\n",
       "    <tr>\n",
       "      <th>5</th>\n",
       "      <td>6831c4b35ff150584a2a66de</td>\n",
       "      <td>Digital Strategist</td>\n",
       "      <td>44.126110</td>\n",
       "    </tr>\n",
       "    <tr>\n",
       "      <th>6</th>\n",
       "      <td>6831c4b35ff150584a2a66dd</td>\n",
       "      <td>Product Manager</td>\n",
       "      <td>48.248070</td>\n",
       "    </tr>\n",
       "    <tr>\n",
       "      <th>7</th>\n",
       "      <td>6831c4b35ff150584a2a66dc</td>\n",
       "      <td>Software Engineer in Test</td>\n",
       "      <td>49.729469</td>\n",
       "    </tr>\n",
       "    <tr>\n",
       "      <th>8</th>\n",
       "      <td>6831c4b35ff150584a2a66d9</td>\n",
       "      <td>Social Media Specialist</td>\n",
       "      <td>50.210350</td>\n",
       "    </tr>\n",
       "    <tr>\n",
       "      <th>9</th>\n",
       "      <td>6831c4b35ff150584a2a66df</td>\n",
       "      <td>Art Director</td>\n",
       "      <td>51.373032</td>\n",
       "    </tr>\n",
       "  </tbody>\n",
       "</table>\n",
       "</div>"
      ],
      "text/plain": [
       "                         id  \\\n",
       "0  6831c4b35ff150584a2a66db   \n",
       "1  6831c4b35ff150584a2a66d6   \n",
       "2  6831c4b35ff150584a2a66da   \n",
       "3  6831c4b35ff150584a2a66d8   \n",
       "4  6831c4b35ff150584a2a66d7   \n",
       "5  6831c4b35ff150584a2a66de   \n",
       "6  6831c4b35ff150584a2a66dd   \n",
       "7  6831c4b35ff150584a2a66dc   \n",
       "8  6831c4b35ff150584a2a66d9   \n",
       "9  6831c4b35ff150584a2a66df   \n",
       "\n",
       "                                            document   distance  \n",
       "0                                   Backend Engineer  12.984494  \n",
       "1                                 Back End Developer  14.726101  \n",
       "2  HRGA Staff area Padalarang Kabupaten Bandung B...  36.943668  \n",
       "3                                      Creative Lead  39.072746  \n",
       "4          (Freelance) Sales Retail Mobile/Canvasser  39.772221  \n",
       "5                                 Digital Strategist  44.126110  \n",
       "6                                    Product Manager  48.248070  \n",
       "7                          Software Engineer in Test  49.729469  \n",
       "8                            Social Media Specialist  50.210350  \n",
       "9                                       Art Director  51.373032  "
      ]
     },
     "execution_count": 8,
     "metadata": {},
     "output_type": "execute_result"
    }
   ],
   "source": [
    "from scripts.chroma_connection import ChromaDBClient\n",
    "\n",
    "# Untuk deskripsi pekerjaan\n",
    "job_titles_client = ChromaDBClient(collection_name=\"job_titles\")\n",
    "\n",
    "# Tambahkan data ke koleksi\n",
    "print(\"Adding job titles to ChromaDB...\")\n",
    "job_titles_client.add_texts(ids=ids, texts=job_titles)\n",
    "\n",
    "print(\"Data added to ChromaDB collection.\")\n",
    "job_titles_client.query(\"backend\", n_results=len(df))\n"
   ]
  },
  {
   "cell_type": "code",
   "execution_count": 9,
   "id": "529b49ee",
   "metadata": {},
   "outputs": [
    {
     "name": "stderr",
     "output_type": "stream",
     "text": [
      "Batches: 100%|██████████| 1/1 [00:00<00:00, 17.10it/s]\n"
     ]
    }
   ],
   "source": [
    "# storing query results\n",
    "df1 = job_titles_client.query(\"backend\", n_results=len(df))"
   ]
  },
  {
   "cell_type": "code",
   "execution_count": 10,
   "id": "916a23ab",
   "metadata": {},
   "outputs": [
    {
     "name": "stderr",
     "output_type": "stream",
     "text": [
      "2025-05-26 11:28:35,097 - INFO - Use pytorch device_name: cpu\n",
      "2025-05-26 11:28:35,101 - INFO - Load pretrained SentenceTransformer: sentence-transformers/paraphrase-multilingual-MiniLM-L12-v2\n"
     ]
    },
    {
     "name": "stdout",
     "output_type": "stream",
     "text": [
      "Adding job titles to ChromaDB...\n"
     ]
    },
    {
     "name": "stderr",
     "output_type": "stream",
     "text": [
      "Batches: 100%|██████████| 1/1 [00:01<00:00,  1.02s/it]\n"
     ]
    },
    {
     "name": "stdout",
     "output_type": "stream",
     "text": [
      "Data added to ChromaDB collection.\n"
     ]
    },
    {
     "name": "stderr",
     "output_type": "stream",
     "text": [
      "Batches: 100%|██████████| 1/1 [00:00<00:00, 12.71it/s]\n"
     ]
    },
    {
     "data": {
      "text/html": [
       "<div>\n",
       "<style scoped>\n",
       "    .dataframe tbody tr th:only-of-type {\n",
       "        vertical-align: middle;\n",
       "    }\n",
       "\n",
       "    .dataframe tbody tr th {\n",
       "        vertical-align: top;\n",
       "    }\n",
       "\n",
       "    .dataframe thead th {\n",
       "        text-align: right;\n",
       "    }\n",
       "</style>\n",
       "<table border=\"1\" class=\"dataframe\">\n",
       "  <thead>\n",
       "    <tr style=\"text-align: right;\">\n",
       "      <th></th>\n",
       "      <th>id</th>\n",
       "      <th>document</th>\n",
       "      <th>distance</th>\n",
       "    </tr>\n",
       "  </thead>\n",
       "  <tbody>\n",
       "    <tr>\n",
       "      <th>0</th>\n",
       "      <td>6831c4b35ff150584a2a66d6</td>\n",
       "      <td>Jobdesk: Utilize languages like Go, PHP/Larave...</td>\n",
       "      <td>24.098253</td>\n",
       "    </tr>\n",
       "    <tr>\n",
       "      <th>1</th>\n",
       "      <td>6831c4b35ff150584a2a66db</td>\n",
       "      <td>Jobdesk: To build, maintain, and enhance our v...</td>\n",
       "      <td>27.833963</td>\n",
       "    </tr>\n",
       "    <tr>\n",
       "      <th>2</th>\n",
       "      <td>6831c4b35ff150584a2a66dd</td>\n",
       "      <td>Jobdesk: Facilitate effective communication an...</td>\n",
       "      <td>28.666151</td>\n",
       "    </tr>\n",
       "    <tr>\n",
       "      <th>3</th>\n",
       "      <td>6831c4b35ff150584a2a66da</td>\n",
       "      <td>Jobdesk: Membantu perekrutan dan pengelolaan o...</td>\n",
       "      <td>29.108858</td>\n",
       "    </tr>\n",
       "    <tr>\n",
       "      <th>4</th>\n",
       "      <td>6831c4b35ff150584a2a66df</td>\n",
       "      <td>Jobdesk: Sebagai, Anda akan bertanggung jawab ...</td>\n",
       "      <td>30.617760</td>\n",
       "    </tr>\n",
       "    <tr>\n",
       "      <th>5</th>\n",
       "      <td>6831c4b35ff150584a2a66d8</td>\n",
       "      <td>Jobdesk: Membuat laporan weekly &amp; monthly, Mem...</td>\n",
       "      <td>30.765408</td>\n",
       "    </tr>\n",
       "    <tr>\n",
       "      <th>6</th>\n",
       "      <td>6831c4b35ff150584a2a66dc</td>\n",
       "      <td>Jobdesk: Review requirements, specifications a...</td>\n",
       "      <td>31.251518</td>\n",
       "    </tr>\n",
       "    <tr>\n",
       "      <th>7</th>\n",
       "      <td>6831c4b35ff150584a2a66de</td>\n",
       "      <td>Jobdesk: Develop and refine digital marketing ...</td>\n",
       "      <td>31.336758</td>\n",
       "    </tr>\n",
       "    <tr>\n",
       "      <th>8</th>\n",
       "      <td>6831c4b35ff150584a2a66d7</td>\n",
       "      <td>Jobdesk: Retail Sales Mobile akan bertanggung ...</td>\n",
       "      <td>32.796844</td>\n",
       "    </tr>\n",
       "    <tr>\n",
       "      <th>9</th>\n",
       "      <td>6831c4b35ff150584a2a66d9</td>\n",
       "      <td>Jobdesk: We are looking for a Social Media Spe...</td>\n",
       "      <td>36.057549</td>\n",
       "    </tr>\n",
       "  </tbody>\n",
       "</table>\n",
       "</div>"
      ],
      "text/plain": [
       "                         id  \\\n",
       "0  6831c4b35ff150584a2a66d6   \n",
       "1  6831c4b35ff150584a2a66db   \n",
       "2  6831c4b35ff150584a2a66dd   \n",
       "3  6831c4b35ff150584a2a66da   \n",
       "4  6831c4b35ff150584a2a66df   \n",
       "5  6831c4b35ff150584a2a66d8   \n",
       "6  6831c4b35ff150584a2a66dc   \n",
       "7  6831c4b35ff150584a2a66de   \n",
       "8  6831c4b35ff150584a2a66d7   \n",
       "9  6831c4b35ff150584a2a66d9   \n",
       "\n",
       "                                            document   distance  \n",
       "0  Jobdesk: Utilize languages like Go, PHP/Larave...  24.098253  \n",
       "1  Jobdesk: To build, maintain, and enhance our v...  27.833963  \n",
       "2  Jobdesk: Facilitate effective communication an...  28.666151  \n",
       "3  Jobdesk: Membantu perekrutan dan pengelolaan o...  29.108858  \n",
       "4  Jobdesk: Sebagai, Anda akan bertanggung jawab ...  30.617760  \n",
       "5  Jobdesk: Membuat laporan weekly & monthly, Mem...  30.765408  \n",
       "6  Jobdesk: Review requirements, specifications a...  31.251518  \n",
       "7  Jobdesk: Develop and refine digital marketing ...  31.336758  \n",
       "8  Jobdesk: Retail Sales Mobile akan bertanggung ...  32.796844  \n",
       "9  Jobdesk: We are looking for a Social Media Spe...  36.057549  "
      ]
     },
     "execution_count": 10,
     "metadata": {},
     "output_type": "execute_result"
    }
   ],
   "source": [
    "# for job descriptions and requirements\n",
    "job_desc_requirements_client = ChromaDBClient(collection_name=\"jobdesk_requirements\")\n",
    "\n",
    "print(\"Adding job titles to ChromaDB...\")\n",
    "job_desc_requirements_client.add_texts(ids=ids, texts=job_texts)\n",
    "\n",
    "print(\"Data added to ChromaDB collection.\")\n",
    "job_desc_requirements_client.query(\"backend\", n_results=len(df))"
   ]
  },
  {
   "cell_type": "code",
   "execution_count": 11,
   "id": "5930163b",
   "metadata": {},
   "outputs": [
    {
     "name": "stderr",
     "output_type": "stream",
     "text": [
      "Batches: 100%|██████████| 1/1 [00:00<00:00,  4.74it/s]\n"
     ]
    }
   ],
   "source": [
    "# storing query results\n",
    "df2 = job_desc_requirements_client.query(\"backend\", n_results=len(df))"
   ]
  },
  {
   "cell_type": "code",
   "execution_count": null,
   "id": "d0d0f16f",
   "metadata": {},
   "outputs": [],
   "source": [
    "from scripts.top_similarity import TopSimilarity\n",
    "\n",
    "top_similarity = TopSimilarity()  \n",
    "similarity_ids = top_similarity.weighted_similarity(df1, df2)"
   ]
  },
  {
   "cell_type": "code",
   "execution_count": null,
   "id": "4e268e55",
   "metadata": {},
   "outputs": [
    {
     "data": {
      "text/plain": [
       "[ObjectId('6831c4b35ff150584a2a66db'),\n",
       " ObjectId('6831c4b35ff150584a2a66d6'),\n",
       " ObjectId('6831c4b35ff150584a2a66dd'),\n",
       " ObjectId('6831c4b35ff150584a2a66da'),\n",
       " ObjectId('6831c4b35ff150584a2a66df')]"
      ]
     },
     "execution_count": 14,
     "metadata": {},
     "output_type": "execute_result"
    }
   ],
   "source": [
    "# ordered by similarity\n",
    "similarity_ids"
   ]
  }
 ],
 "metadata": {
  "kernelspec": {
   "display_name": "venv",
   "language": "python",
   "name": "python3"
  },
  "language_info": {
   "codemirror_mode": {
    "name": "ipython",
    "version": 3
   },
   "file_extension": ".py",
   "mimetype": "text/x-python",
   "name": "python",
   "nbconvert_exporter": "python",
   "pygments_lexer": "ipython3",
   "version": "3.12.2"
  }
 },
 "nbformat": 4,
 "nbformat_minor": 5
}
